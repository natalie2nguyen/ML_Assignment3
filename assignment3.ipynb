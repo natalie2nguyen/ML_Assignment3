{
 "cells": [
  {
   "cell_type": "markdown",
   "metadata": {},
   "source": [
    "# Assignment 3"
   ]
  },
  {
   "cell_type": "markdown",
   "metadata": {},
   "source": [
    "#### 1. Generate a figure from the given dataset that resembles Figure 1."
   ]
  },
  {
   "cell_type": "code",
   "execution_count": 34,
   "metadata": {},
   "outputs": [
    {
     "data": {
      "text/html": [
       "<div>\n",
       "<style scoped>\n",
       "    .dataframe tbody tr th:only-of-type {\n",
       "        vertical-align: middle;\n",
       "    }\n",
       "\n",
       "    .dataframe tbody tr th {\n",
       "        vertical-align: top;\n",
       "    }\n",
       "\n",
       "    .dataframe thead th {\n",
       "        text-align: right;\n",
       "    }\n",
       "</style>\n",
       "<table border=\"1\" class=\"dataframe\">\n",
       "  <thead>\n",
       "    <tr style=\"text-align: right;\">\n",
       "      <th></th>\n",
       "      <th>x</th>\n",
       "      <th>y</th>\n",
       "      <th>Class</th>\n",
       "    </tr>\n",
       "  </thead>\n",
       "  <tbody>\n",
       "    <tr>\n",
       "      <th>0</th>\n",
       "      <td>31.95</td>\n",
       "      <td>7.95</td>\n",
       "      <td>3</td>\n",
       "    </tr>\n",
       "    <tr>\n",
       "      <th>1</th>\n",
       "      <td>31.15</td>\n",
       "      <td>7.30</td>\n",
       "      <td>3</td>\n",
       "    </tr>\n",
       "    <tr>\n",
       "      <th>2</th>\n",
       "      <td>30.45</td>\n",
       "      <td>6.65</td>\n",
       "      <td>3</td>\n",
       "    </tr>\n",
       "    <tr>\n",
       "      <th>3</th>\n",
       "      <td>29.70</td>\n",
       "      <td>6.00</td>\n",
       "      <td>3</td>\n",
       "    </tr>\n",
       "    <tr>\n",
       "      <th>4</th>\n",
       "      <td>28.90</td>\n",
       "      <td>5.55</td>\n",
       "      <td>3</td>\n",
       "    </tr>\n",
       "  </tbody>\n",
       "</table>\n",
       "</div>"
      ],
      "text/plain": [
       "       x     y  Class\n",
       "0  31.95  7.95      3\n",
       "1  31.15  7.30      3\n",
       "2  30.45  6.65      3\n",
       "3  29.70  6.00      3\n",
       "4  28.90  5.55      3"
      ]
     },
     "execution_count": 34,
     "metadata": {},
     "output_type": "execute_result"
    }
   ],
   "source": [
    "import pandas as pd\n",
    "\n",
    "df = pd.read_csv(\"spiral-dataset.csv\", delimiter='\\t',header=None,names=['x','y','Class'])\n",
    "df.head()"
   ]
  },
  {
   "cell_type": "code",
   "execution_count": 41,
   "metadata": {},
   "outputs": [
    {
     "data": {
      "text/html": [
       "<div>\n",
       "<style scoped>\n",
       "    .dataframe tbody tr th:only-of-type {\n",
       "        vertical-align: middle;\n",
       "    }\n",
       "\n",
       "    .dataframe tbody tr th {\n",
       "        vertical-align: top;\n",
       "    }\n",
       "\n",
       "    .dataframe thead th {\n",
       "        text-align: right;\n",
       "    }\n",
       "</style>\n",
       "<table border=\"1\" class=\"dataframe\">\n",
       "  <thead>\n",
       "    <tr style=\"text-align: right;\">\n",
       "      <th></th>\n",
       "      <th>x</th>\n",
       "      <th>y</th>\n",
       "      <th>Class</th>\n",
       "    </tr>\n",
       "  </thead>\n",
       "  <tbody>\n",
       "    <tr>\n",
       "      <th>0</th>\n",
       "      <td>31.95</td>\n",
       "      <td>7.95</td>\n",
       "      <td>3</td>\n",
       "    </tr>\n",
       "    <tr>\n",
       "      <th>1</th>\n",
       "      <td>31.15</td>\n",
       "      <td>7.30</td>\n",
       "      <td>3</td>\n",
       "    </tr>\n",
       "    <tr>\n",
       "      <th>2</th>\n",
       "      <td>30.45</td>\n",
       "      <td>6.65</td>\n",
       "      <td>3</td>\n",
       "    </tr>\n",
       "    <tr>\n",
       "      <th>3</th>\n",
       "      <td>29.70</td>\n",
       "      <td>6.00</td>\n",
       "      <td>3</td>\n",
       "    </tr>\n",
       "    <tr>\n",
       "      <th>4</th>\n",
       "      <td>28.90</td>\n",
       "      <td>5.55</td>\n",
       "      <td>3</td>\n",
       "    </tr>\n",
       "    <tr>\n",
       "      <th>...</th>\n",
       "      <td>...</td>\n",
       "      <td>...</td>\n",
       "      <td>...</td>\n",
       "    </tr>\n",
       "    <tr>\n",
       "      <th>101</th>\n",
       "      <td>21.85</td>\n",
       "      <td>15.25</td>\n",
       "      <td>3</td>\n",
       "    </tr>\n",
       "    <tr>\n",
       "      <th>102</th>\n",
       "      <td>21.75</td>\n",
       "      <td>15.15</td>\n",
       "      <td>3</td>\n",
       "    </tr>\n",
       "    <tr>\n",
       "      <th>103</th>\n",
       "      <td>21.65</td>\n",
       "      <td>15.05</td>\n",
       "      <td>3</td>\n",
       "    </tr>\n",
       "    <tr>\n",
       "      <th>104</th>\n",
       "      <td>21.55</td>\n",
       "      <td>15.00</td>\n",
       "      <td>3</td>\n",
       "    </tr>\n",
       "    <tr>\n",
       "      <th>105</th>\n",
       "      <td>21.50</td>\n",
       "      <td>14.90</td>\n",
       "      <td>3</td>\n",
       "    </tr>\n",
       "  </tbody>\n",
       "</table>\n",
       "<p>106 rows × 3 columns</p>\n",
       "</div>"
      ],
      "text/plain": [
       "         x      y  Class\n",
       "0    31.95   7.95      3\n",
       "1    31.15   7.30      3\n",
       "2    30.45   6.65      3\n",
       "3    29.70   6.00      3\n",
       "4    28.90   5.55      3\n",
       "..     ...    ...    ...\n",
       "101  21.85  15.25      3\n",
       "102  21.75  15.15      3\n",
       "103  21.65  15.05      3\n",
       "104  21.55  15.00      3\n",
       "105  21.50  14.90      3\n",
       "\n",
       "[106 rows x 3 columns]"
      ]
     },
     "execution_count": 41,
     "metadata": {},
     "output_type": "execute_result"
    }
   ],
   "source": [
    "class_1_df = df.loc[df['Class'] == 1]\n",
    "class_2_df = df.loc[df['Class'] == 2]\n",
    "class_3_df = df.loc[df['Class'] == 3]\n",
    "class_3_df"
   ]
  },
  {
   "cell_type": "code",
   "execution_count": 48,
   "metadata": {},
   "outputs": [
    {
     "data": {
      "image/png": "[encoded data removed]",
      "text/plain": [
       "<Figure size 640x480 with 1 Axes>"
      ]
     },
     "metadata": {},
     "output_type": "display_data"
    }
   ],
   "source": [
    "import matplotlib.pyplot as plt\n",
    "\n",
    "plt.scatter(class_1_df['x'], class_1_df['y'], color='g')\n",
    "plt.scatter(class_2_df['x'], class_2_df['y'], color='b')\n",
    "plt.scatter(class_3_df['x'], class_3_df['y'], color='r')\n",
    "plt.show()\n"
   ]
  },
  {
   "cell_type": "markdown",
   "metadata": {},
   "source": [
    "### 2. Implement the k-means clustering algorithm. And do the following:\n",
    "2a) \n",
    "- Run your k-means algorithm on the given dataset setting the value k=3 (because\n",
    "    visually we only have 3 clusters to worry about). And do not forget to randomly initialize the 3 centroids.\n",
    "    \n",
    "2b) \n",
    "- Once your k-means algorithm has converged above, stop and from your clustering result compute the intrinsic performance metric: Sum of Squared Error, SSE (smaller the better), and the extrinsic performance metric: Rand-Index, RI (higher the better).\n",
    "- 2c) \n",
    "    Repeat Task (2.a) & (2.b) another 9 (nine) times randomizing again the initial centroids, and report out of the 10 runs of k-means what is the best SSE & RI you could get.\n",
    "- 2d) \n",
    "    Please draw the clustering results (like Figure 1)."
   ]
  },
  {
   "cell_type": "markdown",
   "metadata": {},
   "source": []
  },
  {
   "cell_type": "code",
   "execution_count": 74,
   "metadata": {},
   "outputs": [
    {
     "name": "stdout",
     "output_type": "stream",
     "text": [
      "[array([13.88710937, 11.13632813]), array([24.34      , 22.35578947]), array([18.57865169, 17.41910112])]\n",
      "{0: [array([28.05,  5.  ]), array([27.2 ,  4.55]), array([26.35,  4.15]), array([25.4 ,  3.85]), array([24.6,  3.6]), array([23.6,  3.3]), array([22.75,  3.15]), array([21.85,  3.05]), array([20.9,  3. ]), array([20. ,  2.9]), array([19.1,  3. ]), array([18.2,  3.2]), array([17.3 ,  3.25]), array([16.55,  3.5 ]), array([15.7,  3.7]), array([14.85,  4.1 ]), array([14.15,  4.4 ]), array([13.4 ,  4.75]), array([12.7,  5.2]), array([12.05,  5.65]), array([11.45,  6.15]), array([10.9 ,  6.65]), array([10.3 ,  7.25]), array([9.7 , 7.85]), array([9.35, 8.35]), array([8.9 , 9.05]), array([8.55, 9.65]), array([ 8.15, 10.35]), array([ 7.95, 10.95]), array([ 7.75, 11.7 ]), array([ 7.55, 12.35]), array([ 7.45, 13.  ]), array([ 7.35, 13.75]), array([ 7.3 , 14.35]), array([ 7.35, 14.95]), array([ 7.35, 15.75]), array([ 7.55, 16.35]), array([ 7.7 , 16.95]), array([ 7.8 , 17.55]), array([ 8.05, 18.15]), array([ 8.3 , 18.75]), array([ 8.65, 19.3 ]), array([ 8.9 , 19.85]), array([25.15,  8.05]), array([24.5 ,  7.75]), array([23.9 ,  7.65]), array([23.15,  7.4 ]), array([22.5,  7.3]), array([21.9,  7.1]), array([21.25,  7.05]), array([20.5,  7. ]), array([19.9 ,  6.95]), array([19.25,  7.05]), array([18.75,  7.1 ]), array([18.05,  7.25]), array([17.5 ,  7.35]), array([16.9,  7.6]), array([16.35,  7.8 ]), array([15.8 ,  8.05]), array([15.4 ,  8.35]), array([14.9,  8.7]), array([14.45,  8.9 ]), array([13.95,  9.3 ]), array([13.6 ,  9.65]), array([13.25, 10.1 ]), array([12.95, 10.55]), array([12.65, 10.9 ]), array([12.35, 11.4 ]), array([12.2 , 11.75]), array([11.95, 12.2 ]), array([11.8 , 12.65]), array([11.75, 13.05]), array([11.55, 13.6 ]), array([11.55, 14.  ]), array([11.55, 14.35]), array([11.55, 14.7 ]), array([11.6 , 15.25]), array([11.65, 15.7 ]), array([11.8 , 16.05]), array([11.85, 16.5 ]), array([12.  , 16.75]), array([12.15, 17.2 ]), array([12.3, 17.6]), array([3.9, 9.6]), array([ 3.55, 10.65]), array([ 3.35, 11.4 ]), array([ 3.1 , 12.35]), array([ 3.1 , 13.25]), array([ 3.05, 14.15]), array([ 3. , 15.1]), array([ 3.1, 16. ]), array([ 3.2 , 16.85]), array([ 3.45, 17.75]), array([ 3.7, 18.7]), array([ 3.95, 19.55]), array([ 4.35, 20.25]), array([ 4.7, 21.1]), array([ 5.15, 21.8 ]), array([ 5.6, 22.5]), array([21.1, 11. ]), array([20.7 , 10.95]), array([20.35, 10.95]), array([19.95, 11.  ]), array([19.55, 11.  ]), array([19.15, 11.05]), array([18.85, 11.1 ]), array([18.45, 11.25]), array([18.15, 11.35]), array([17.85, 11.5 ]), array([17.5, 11.7]), array([17.2 , 11.95]), array([17.  , 12.05]), array([16.75, 12.2 ]), array([16.65, 12.35]), array([16.5, 12.5]), array([16.35, 12.7 ]), array([16.2, 12.8]), array([16.15, 12.95]), array([16. , 13.1]), array([15.95, 13.25]), array([15.9, 13.4]), array([15.8, 13.5]), array([15.8 , 13.65]), array([15.75, 13.85]), array([15.65, 14.05]), array([15.65, 14.25]), array([15.65, 14.5 ]), array([15.65, 14.6 ])], 1: [array([16.7, 23.8]), array([17.15, 23.75]), array([17.75, 23.75]), array([18.2, 23.6]), array([18.65, 23.5 ]), array([19.1 , 23.35]), array([19.6 , 23.15]), array([20.  , 22.95]), array([20.4, 22.7]), array([20.7 , 22.55]), array([21.  , 22.15]), array([21.45, 21.95]), array([21.75, 21.55]), array([22.  , 21.25]), array([22.25, 21.  ]), array([22.5, 20.7]), array([22.65, 20.35]), array([22.75, 20.05]), array([22.9 , 19.65]), array([23.  , 19.35]), array([23.1, 19. ]), array([23.15, 18.65]), array([23.2 , 18.25]), array([23.2 , 18.05]), array([23.2, 17.8]), array([23.1 , 17.45]), array([19.35, 31.65]), array([20.35, 31.45]), array([21.35, 31.1 ]), array([22.25, 30.9 ]), array([23.2 , 30.45]), array([23.95, 30.05]), array([24.9 , 29.65]), array([25.6 , 29.05]), array([26.35, 28.5 ]), array([27.15, 27.9 ]), array([27.75, 27.35]), array([28.3, 26.6]), array([28.95, 25.85]), array([29.5 , 25.15]), array([29.95, 24.45]), array([30.4, 23.7]), array([30.6, 22.9]), array([30.9, 22.1]), array([31.25, 21.3 ]), array([31.35, 20.55]), array([31.5, 19.7]), array([31.55, 18.9 ]), array([31.65, 18.15]), array([31.6 , 17.35]), array([31.45, 16.55]), array([31.3, 15.8]), array([31.15, 15.05]), array([30.9 , 14.35]), array([30.6 , 13.65]), array([30.3, 13. ]), array([29.9, 12.3]), array([29.5 , 11.75]), array([13.3, 27.6]), array([14.05, 27.6 ]), array([14.7 , 27.75]), array([15.55, 27.75]), array([16.4 , 27.75]), array([17.1 , 27.75]), array([17.9 , 27.75]), array([18.55, 27.7 ]), array([19.35, 27.6 ]), array([20.1 , 27.35]), array([20.7, 27.1]), array([21.45, 26.8 ]), array([22.05, 26.5 ]), array([22.7 , 26.15]), array([23.35, 25.65]), array([23.8, 25.3]), array([24.3 , 24.85]), array([24.75, 24.35]), array([25.25, 23.95]), array([25.65, 23.45]), array([26.05, 23.  ]), array([26.2, 22.3]), array([26.6, 21.8]), array([26.75, 21.25]), array([27. , 20.7]), array([27.15, 20.15]), array([27.15, 19.6 ]), array([27.35, 19.1 ]), array([27.35, 18.45]), array([27.4, 18. ]), array([27.3, 17.4]), array([27.15, 16.9 ]), array([27. , 16.4]), array([27. , 15.9]), array([26.75, 15.35]), array([26.55, 14.85]), array([26.3 , 14.45])], 2: [array([31.95,  7.95]), array([31.15,  7.3 ]), array([30.45,  6.65]), array([29.7,  6. ]), array([28.9 ,  5.55]), array([ 9.3, 20.3]), array([ 9.65, 20.8 ]), array([10.2 , 21.25]), array([10.6 , 21.65]), array([11.1 , 22.15]), array([11.55, 22.45]), array([11.95, 22.7 ]), array([12.55, 23.  ]), array([13.05, 23.2 ]), array([13.45, 23.4 ]), array([14.  , 23.55]), array([14.55, 23.6 ]), array([15.1 , 23.75]), array([15.7 , 23.75]), array([16.15, 23.85]), array([23.05, 17.15]), array([22.9, 16.9]), array([22.85, 16.6 ]), array([22.7, 16.4]), array([22.6, 16.2]), array([22.55, 16.05]), array([22.4 , 15.95]), array([22.35, 15.8 ]), array([22.2 , 15.65]), array([22.15, 15.55]), array([22. , 15.4]), array([21.9, 15.3]), array([21.85, 15.25]), array([21.75, 15.15]), array([21.65, 15.05]), array([21.55, 15.  ]), array([21.5, 14.9]), array([29.  , 11.15]), array([28.5, 10.6]), array([28. , 10.1]), array([27.55,  9.65]), array([26.9,  9.1]), array([26.25,  8.8 ]), array([25.7,  8.4]), array([12.55, 17.85]), array([12.8 , 18.05]), array([13.1, 18.4]), array([13.3, 18.6]), array([13.55, 18.85]), array([13.8 , 19.05]), array([14.15, 19.25]), array([14.45, 19.5 ]), array([14.85, 19.55]), array([15. , 19.7]), array([15.25, 19.7 ]), array([15.55, 19.85]), array([15.95, 19.9 ]), array([16.2, 19.9]), array([16.55, 19.9 ]), array([16.85, 19.9 ]), array([17.2, 19.9]), array([17.4, 19.8]), array([17.65, 19.75]), array([17.8, 19.7]), array([18. , 19.6]), array([18.2 , 19.55]), array([ 6.2, 23.3]), array([ 6.8 , 23.85]), array([ 7.35, 24.45]), array([ 8.05, 24.95]), array([ 8.8 , 25.45]), array([ 9.5, 26. ]), array([10.2 , 26.35]), array([10.9 , 26.75]), array([11.7, 27. ]), array([12.45, 27.25]), array([25.95, 14.1 ]), array([25.75, 13.7 ]), array([25.35, 13.3 ]), array([25.05, 12.95]), array([24.8, 12.7]), array([24.4 , 12.45]), array([24.05, 12.2 ]), array([23.55, 11.85]), array([23.2 , 11.65]), array([22.75, 11.4 ]), array([22.3, 11.3]), array([21.9, 11.1]), array([21.45, 11.05])]}\n"
     ]
    }
   ],
   "source": [
    "import random\n",
    "import numpy as np \n",
    "\n",
    "def df_to_list():\n",
    "    return list(df.drop(columns=['Class']).values)\n",
    "\n",
    "def choose_centroids(data, k):\n",
    "    # choose random centroids\n",
    "    return random.sample(data, k)  \n",
    "\n",
    "def assign_clusters(data,centroids):\n",
    "    k = len(centroids)\n",
    "    clusters = {}\n",
    "\n",
    "    for i in range(k):\n",
    "        clusters[i] = []\n",
    "\n",
    "    for point in data: \n",
    "        euclid_distance = []\n",
    "        for i in range(k):\n",
    "            euclid_distance.append(np.linalg.norm(np.array(point) - np.array(centroids[i])))\n",
    "        clusters[euclid_distance.index(min(euclid_distance))].append(point)\n",
    "\n",
    "    return clusters\n",
    "\n",
    "def recalculate_centroids(clusters, centroids, k ):\n",
    "    for i in range(k):\n",
    "        centroids[i] = np.mean(clusters[i],axis=0)\n",
    "    return centroids\n",
    "\n",
    "for i in range(300):\n",
    "    data = df_to_list()\n",
    "    centroids = choose_centroids(data,3)\n",
    "    clusters = assign_clusters(data, centroids)\n",
    "    solution = recalculate_centroids(clusters, centroids, 3)\n",
    "print(centroids)\n",
    "print(clusters)"
   ]
  },
  {
   "cell_type": "code",
   "execution_count": 61,
   "metadata": {},
   "outputs": [
    {
     "data": {
      "text/plain": [
       "np.float64(25.445038167938932)"
      ]
     },
     "execution_count": 61,
     "metadata": {},
     "output_type": "execute_result"
    }
   ],
   "source": [
    "centroids[0]"
   ]
  },
  {
   "cell_type": "code",
   "execution_count": 62,
   "metadata": {},
   "outputs": [
    {
     "data": {
      "text/plain": [
       "25.445038167938932"
      ]
     },
     "execution_count": 62,
     "metadata": {},
     "output_type": "execute_result"
    }
   ],
   "source": [
    "float(centroids[0])"
   ]
  },
  {
   "cell_type": "code",
   "execution_count": 72,
   "metadata": {},
   "outputs": [
    {
     "data": {
      "text/plain": [
       "10.543362831858408"
      ]
     },
     "execution_count": 72,
     "metadata": {},
     "output_type": "execute_result"
    }
   ],
   "source": [
    "float(centroids[1])"
   ]
  },
  {
   "cell_type": "code",
   "execution_count": 71,
   "metadata": {},
   "outputs": [
    {
     "data": {
      "image/png": "[encoded data removed]",
      "text/plain": [
       "<Figure size 640x480 with 1 Axes>"
      ]
     },
     "metadata": {},
     "output_type": "display_data"
    }
   ],
   "source": [
    "plt.scatter(class_1_df['x'], class_1_df['y'], color='g')\n",
    "plt.scatter(class_2_df['x'], class_2_df['y'], color='b')\n",
    "plt.scatter(class_3_df['x'], class_3_df['y'], color='r')\n",
    "plt.scatter(float(centroids[0]), float(centroids[1]), float(centroids[2]), color='black')\n",
    "plt.show()\n"
   ]
  },
  {
   "cell_type": "code",
   "execution_count": null,
   "metadata": {},
   "outputs": [],
   "source": []
  }
 ],
 "metadata": {
  "kernelspec": {
   "display_name": ".venv",
   "language": "python",
   "name": "python3"
  },
  "language_info": {
   "codemirror_mode": {
    "name": "ipython",
    "version": 3
   },
   "file_extension": ".py",
   "mimetype": "text/x-python",
   "name": "python",
   "nbconvert_exporter": "python",
   "pygments_lexer": "ipython3",
   "version": "3.12.6"
  }
 },
 "nbformat": 4,
 "nbformat_minor": 2
}
